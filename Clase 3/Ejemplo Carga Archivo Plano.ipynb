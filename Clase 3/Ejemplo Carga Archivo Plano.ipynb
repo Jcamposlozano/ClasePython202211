{
 "cells": [
  {
   "cell_type": "code",
   "execution_count": 1,
   "id": "fb933217",
   "metadata": {},
   "outputs": [],
   "source": [
    "import pandas as pd"
   ]
  },
  {
   "cell_type": "code",
   "execution_count": 2,
   "id": "9f66fd12",
   "metadata": {},
   "outputs": [],
   "source": [
    "#df_empleados = pd.read_excel('C:/Users/ADMIN/Downloads/Empleados.xlsx')\n",
    "df_empleados = pd.read_csv('C:/Users/ADMIN/Downloads/Empleados.csv')"
   ]
  },
  {
   "cell_type": "code",
   "execution_count": 8,
   "id": "6504dd82",
   "metadata": {},
   "outputs": [
    {
     "name": "stdout",
     "output_type": "stream",
     "text": [
      "['daniel', 'mendoza', 1000000, 'auxiliar', 'Daniel']\n",
      "['felipe', 'mora', 2000000, 'tecnico', 'Daniel']\n",
      "['laura', 'gutierrez', 3000000, 'analista', 'Daniel']\n",
      "['deiby', 'marin', 1700000, 'gestor', 'Daniel']\n",
      "['alexander', 'gutierrez', 6000000, 'gerente', 'Daniel']\n",
      "['maria', 'parra', 2700000, 'auxiliar', 'Daniel']\n",
      "['jorge', 'fonseca', 1600000, 'mensajero', 'Daniel']\n",
      "['Angela', 'Mora', 12000000, 'Gerente Canal', 'Daniel']\n",
      "['Karen', 'Martinez', 2700000, 'Auxiliar', 'Daniel']\n",
      "['Steven', 'Monroy', 2700000, 'Auxiliar', 'Daniel']\n",
      "['Camila', 'Falla ', 3000000, 'Ing civil ', 'Darlenne ']\n",
      "['Estefania ', 'Prieto ', 1500000, 'Auxiliar ', 'Darlenne ']\n",
      "['Luis ', 'Fonseca ', 4000000, 'Contador ', 'Darlenne ']\n",
      "['Camilla ', 'Montenefro', 1200000, 'Secretaria ', 'Darlenne ']\n",
      "['Carlos', 'Diaz ', 3000000, 'Ing industrial ', 'Darlenne ']\n",
      "['Natalia ', 'Marin ', 2000000, 'Analista ', 'Darlenne ']\n",
      "['Brahiam ', 'Quintero ', 5500000, 'Medico ', 'Darlenne ']\n",
      "['Tomas ', 'Arias ', 1900000, 'Profesora ', 'Darlenne ']\n",
      "['Juan ', 'Casas ', 1000000, 'Tecnico ', 'Darlenne ']\n",
      "['Lucas ', 'Lopez', 1800000, 'Diseñador ', 'Darlenne ']\n",
      "['carlos', 'Arias', 1600000, 'auxiliar', 'angi']\n",
      "['Libia ', 'cortez', 1800009, 'tecnico', 'angi ']\n",
      "['Carlos ', 'castro', 1678000, 'operario', 'angi ']\n",
      "['Daniel ', 'florez/', 2000000, 'ING sistemas', 'angi ']\n",
      "['Daniela ', 'Díaz ', 2000000, 'contador ', 'angi ']\n",
      "['cecilia', 'romero', 4000000, 'gerente general', 'angi ']\n",
      "['Diana ', 'Cortez', 6000000, 'presidente', 'angi ']\n",
      "['lizeth', 'Murcia ', 2500000, 'secretaria ', 'angi ']\n",
      "['Nubia', 'Prieto', 2000000, 'asistente gerencia', 'angi ']\n",
      "['Rosa', 'Millers', 1500000, 'Atencion al cliente', 'camilo']\n",
      "['Sandy', 'Rey', 1750000, 'Contador', 'camilo']\n",
      "['Juan', 'Meyer', 1800000, 'Ing sistemas', 'camilo']\n",
      "['Kevin', 'Lopez', 1680000, 'Director de logistica', 'camilo']\n"
     ]
    }
   ],
   "source": [
    "for i in df_empleados.values.tolist():\n",
    "    print(i)"
   ]
  },
  {
   "cell_type": "code",
   "execution_count": null,
   "id": "d1420acb",
   "metadata": {},
   "outputs": [],
   "source": []
  }
 ],
 "metadata": {
  "kernelspec": {
   "display_name": "Python 3 (ipykernel)",
   "language": "python",
   "name": "python3"
  },
  "language_info": {
   "codemirror_mode": {
    "name": "ipython",
    "version": 3
   },
   "file_extension": ".py",
   "mimetype": "text/x-python",
   "name": "python",
   "nbconvert_exporter": "python",
   "pygments_lexer": "ipython3",
   "version": "3.9.7"
  }
 },
 "nbformat": 4,
 "nbformat_minor": 5
}
